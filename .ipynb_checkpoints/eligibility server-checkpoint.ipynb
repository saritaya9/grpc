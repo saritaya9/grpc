{
 "cells": [
  {
   "cell_type": "code",
   "execution_count": null,
   "metadata": {},
   "outputs": [
    {
     "name": "stdout",
     "output_type": "stream",
     "text": [
      "Starting server. Listening on port 50051.\n",
      "name\n",
      "Nationality\n",
      "adhaar_id\n"
     ]
    }
   ],
   "source": [
    "import grpc\n",
    "from concurrent import futures\n",
    "import concurrent.futures\n",
    "#import aiotasks\n",
    "import time\n",
    "import eligibility_pb2\n",
    "import eligibility_pb2_grpc\n",
    "import eligibility as ea\n",
    "_ONE_DAY_IN_SECONDS = 60*60*24\n",
    "class VotingEligibility():\n",
    "    def getDetails(self, request, context):\n",
    "    #print('Server side -- Data in request ',request)   \n",
    "        print('name')\n",
    "        print('Nationality')\n",
    "        print(\"adhaar_id\")\n",
    "        \n",
    "        return eligibility_pb2.Status(status = \"Valid\")\n",
    "    def getAge(self, request, context):\n",
    "        res = ea.get_age(request.age)\n",
    "        return eligibility_pb2.Eligibility( eligible = res)\n",
    "    \n",
    "def server():\n",
    "    server = grpc.server(futures.ThreadPoolExecutor(max_workers=10))\n",
    "    eligibility_pb2_grpc.add_VotingEligibilityServicer_to_server( VotingEligibility(),server)\n",
    "    print('Starting server. Listening on port 50051.')\n",
    "    server.add_insecure_port('[::]:50051')\n",
    "    server.start()\n",
    "    try:\n",
    "        while True:\n",
    "            time.sleep(_ONE_DAY_IN_SECONDS)\n",
    "    except keyboardInterrupt:\n",
    "        server.stop()\n",
    "        \n",
    "if __name__ == '__main__':\n",
    "    server()\n",
    "        \n",
    "                                           \n"
   ]
  },
  {
   "cell_type": "code",
   "execution_count": null,
   "metadata": {},
   "outputs": [],
   "source": []
  },
  {
   "cell_type": "code",
   "execution_count": null,
   "metadata": {},
   "outputs": [],
   "source": []
  }
 ],
 "metadata": {
  "kernelspec": {
   "display_name": "Python 3",
   "language": "python",
   "name": "python3"
  },
  "language_info": {
   "codemirror_mode": {
    "name": "ipython",
    "version": 3
   },
   "file_extension": ".py",
   "mimetype": "text/x-python",
   "name": "python",
   "nbconvert_exporter": "python",
   "pygments_lexer": "ipython3",
   "version": "3.6.4"
  }
 },
 "nbformat": 4,
 "nbformat_minor": 2
}
