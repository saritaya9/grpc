{
 "cells": [
  {
   "cell_type": "code",
   "execution_count": 7,
   "metadata": {
    "scrolled": true
   },
   "outputs": [
    {
     "name": "stdout",
     "output_type": "stream",
     "text": [
      "enter namewww\n",
      "enter nationalityqqq\n",
      "enter adhaar_id222222\n",
      "Client side -- : status: \"Valid\"\n",
      "\n",
      "enter Age34\n",
      "Client side -- : eligible: \"eligible to cast a vote\"\n",
      "\n"
     ]
    }
   ],
   "source": [
    "import grpc\n",
    "#import eligibility\n",
    "import eligibility_pb2\n",
    "import eligibility_pb2_grpc\n",
    "def getDetails():\n",
    "    channel = grpc.insecure_channel('localhost:50051')\n",
    "    stub = eligibility_pb2_grpc.VotingEligibilityStub(channel)\n",
    "    \n",
    "    name = input(\"enter name\")\n",
    "    nationality = input(\"enter nationality\")\n",
    "    adhaar_id =  int (input(\"enter adhaar_id\"))\n",
    "    \n",
    "    response = stub.getDetails(eligibility_pb2.Details(name = name, nationality = nationality , adhaar_id = adhaar_id))\n",
    "    print(\"Client side -- :\" , response)\n",
    "     \n",
    "    Age =  int (input(\"enter Age\"))\n",
    "    \n",
    "     \n",
    "    response = stub.getAge(eligibility_pb2.Age(age=Age))\n",
    "    print(\"Client side -- :\" , response )\n",
    "    \n",
    "if __name__ == '__main__':\n",
    "    getDetails()\n"
   ]
  },
  {
   "cell_type": "code",
   "execution_count": null,
   "metadata": {},
   "outputs": [],
   "source": []
  },
  {
   "cell_type": "code",
   "execution_count": null,
   "metadata": {},
   "outputs": [],
   "source": []
  },
  {
   "cell_type": "markdown",
   "metadata": {},
   "source": []
  },
  {
   "cell_type": "code",
   "execution_count": null,
   "metadata": {},
   "outputs": [],
   "source": []
  },
  {
   "cell_type": "code",
   "execution_count": null,
   "metadata": {},
   "outputs": [],
   "source": []
  },
  {
   "cell_type": "code",
   "execution_count": null,
   "metadata": {},
   "outputs": [],
   "source": []
  },
  {
   "cell_type": "code",
   "execution_count": null,
   "metadata": {},
   "outputs": [],
   "source": []
  },
  {
   "cell_type": "code",
   "execution_count": null,
   "metadata": {},
   "outputs": [],
   "source": []
  },
  {
   "cell_type": "code",
   "execution_count": null,
   "metadata": {},
   "outputs": [],
   "source": []
  },
  {
   "cell_type": "code",
   "execution_count": null,
   "metadata": {},
   "outputs": [],
   "source": []
  },
  {
   "cell_type": "code",
   "execution_count": null,
   "metadata": {},
   "outputs": [],
   "source": []
  },
  {
   "cell_type": "code",
   "execution_count": null,
   "metadata": {},
   "outputs": [],
   "source": [
    "\n",
    "\n",
    "\n",
    "\n",
    "# create a stub (client)\n",
    "stub = calculator_pb2_grpc.CalculatorStub(channel)\n",
    "\n",
    "# create a valid request message\n",
    "number = calculator_pb2.Number(value=16)\n",
    "\n",
    "# make the call\n",
    "response = stub.SquareRoot(number)\n",
    "\n",
    "\n",
    "print(re\n",
    "if __name__ == '__main__':\n",
    "    set_data()"
   ]
  }
 ],
 "metadata": {
  "kernelspec": {
   "display_name": "Python 3",
   "language": "python",
   "name": "python3"
  },
  "language_info": {
   "codemirror_mode": {
    "name": "ipython",
    "version": 3
   },
   "file_extension": ".py",
   "mimetype": "text/x-python",
   "name": "python",
   "nbconvert_exporter": "python",
   "pygments_lexer": "ipython3",
   "version": "3.6.4"
  }
 },
 "nbformat": 4,
 "nbformat_minor": 2
}
