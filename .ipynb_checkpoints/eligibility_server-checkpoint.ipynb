{
 "cells": [
  {
   "cell_type": "code",
   "execution_count": 16,
   "metadata": {},
   "outputs": [],
   "source": [
    "import grpc\n",
    "from concurrent import futures\n",
    "import time\n",
    "import eligibility_pb2\n",
    "import eligibility_pb2_grpc\n",
    "import eligibility\n",
    "_ONE_DAY_IN_SECONDS = 60*60*24\n",
    "class VotingEligibility():\n",
    "    def getDetails(self, request, context):\n",
    "        name = string(input(\"enter name\"))\n",
    "        nationality = string(input(\"enter nationality\"))\n",
    "        adhaar_id = int(input(\"enter adhaar_id\"))\n",
    "        return eligibility_pb2.Status(status = \"Valid\")\n",
    "    def getAge(self, request, context):\n",
    "        return eligibility_pb2.Eligibility(\"Eligibility = Eligible\" , \"Eligibility = notEligible\")\n",
    "    \n",
    "def server():\n",
    "    server = grpc.server(future.ThreadpoolExecutor(max_worker=10))\n",
    "    eligibility_pb2_grpc.add_VotingEligibilityServicer_to_server( VotingEligibility(),server)\n",
    "    print('Starting server. Listening on port 50051.')\n",
    "    server.add_insecure_port('[::]:50051')\n",
    "    server.start()\n",
    "    try:\n",
    "        while True:\n",
    "            time.sleep(_ONE_DAY_IN_SECONDS)\n",
    "    except keyboardInterrupt:\n",
    "        server.stop()\n",
    "                                           "
   ]
  },
  {
   "cell_type": "code",
   "execution_count": 15,
   "metadata": {},
   "outputs": [],
   "source": [
    "\n",
    "                                        \n",
    "    "
   ]
  },
  {
   "cell_type": "code",
   "execution_count": null,
   "metadata": {},
   "outputs": [],
   "source": []
  },
  {
   "cell_type": "code",
   "execution_count": null,
   "metadata": {},
   "outputs": [],
   "source": []
  },
  {
   "cell_type": "code",
   "execution_count": null,
   "metadata": {},
   "outputs": [],
   "source": []
  },
  {
   "cell_type": "code",
   "execution_count": null,
   "metadata": {},
   "outputs": [],
   "source": []
  },
  {
   "cell_type": "code",
   "execution_count": null,
   "metadata": {},
   "outputs": [],
   "source": [
    "\n"
   ]
  },
  {
   "cell_type": "code",
   "execution_count": null,
   "metadata": {},
   "outputs": [],
   "source": []
  },
  {
   "cell_type": "code",
   "execution_count": null,
   "metadata": {},
   "outputs": [],
   "source": []
  },
  {
   "cell_type": "code",
   "execution_count": null,
   "metadata": {},
   "outputs": [],
   "source": [
    "\n",
    "    \n",
    "    \n",
    "    \n",
    "    \n"
   ]
  }
 ],
 "metadata": {
  "kernelspec": {
   "display_name": "Python 3",
   "language": "python",
   "name": "python3"
  },
  "language_info": {
   "codemirror_mode": {
    "name": "ipython",
    "version": 3
   },
   "file_extension": ".py",
   "mimetype": "text/x-python",
   "name": "python",
   "nbconvert_exporter": "python",
   "pygments_lexer": "ipython3",
   "version": "3.6.4"
  }
 },
 "nbformat": 4,
 "nbformat_minor": 2
}
